version https://git-lfs.github.com/spec/v1
oid sha256:6a659b47de76e6b7a5927178914f778a978ace5eebc099b18677662b426811d1
size 38403931
